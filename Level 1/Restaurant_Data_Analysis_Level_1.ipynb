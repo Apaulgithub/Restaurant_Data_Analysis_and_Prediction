{
  "nbformat": 4,
  "nbformat_minor": 0,
  "metadata": {
    "colab": {
      "provenance": [],
      "collapsed_sections": [
        "vncDsAP0Gaoa",
        "FJNUwmbgGyua",
        "w6K7xa23Elo4",
        "yQaldy8SH6Dl",
        "PqB7TMVXKZFY",
        "Y3lxredqlCYt",
        "3RnN4peoiCZX",
        "x71ZqKXriCWQ",
        "7hBIi_osiCS2",
        "JlHwYmJAmNHm",
        "H0kj-8xxnORC",
        "61zgxoJ434nM"
      ],
      "authorship_tag": "ABX9TyMo5SBT98J081zOG4lfJUMS",
      "include_colab_link": true
    },
    "kernelspec": {
      "name": "python3",
      "display_name": "Python 3"
    },
    "language_info": {
      "name": "python"
    }
  },
  "cells": [
    {
      "cell_type": "markdown",
      "metadata": {
        "id": "view-in-github",
        "colab_type": "text"
      },
      "source": [
        "<a href=\"https://colab.research.google.com/github/Apaulgithub/Restaurant_Data_Analysis_and_Prediction/blob/main/Level%201/Restaurant_Data_Analysis_Level_1.ipynb\" target=\"_parent\"><img src=\"https://colab.research.google.com/assets/colab-badge.svg\" alt=\"Open In Colab\"/></a>"
      ]
    },
    {
      "cell_type": "markdown",
      "metadata": {
        "id": "vncDsAP0Gaoa"
      },
      "source": [
        "# **Project Name**    - Restaurant_Data_Analysis_Level_1\n",
        "\n"
      ]
    },
    {
      "cell_type": "markdown",
      "metadata": {
        "id": "beRrZCGUAJYm"
      },
      "source": [
        "##### **Project Type**    - EDA\n",
        "##### **Industry**    - Cognifyz Technologies\n",
        "##### **Contribution**    - Individual\n",
        "##### **Member Name -** Arindam Paul\n",
        "##### **Level -** 1"
      ]
    },
    {
      "cell_type": "markdown",
      "metadata": {
        "id": "FJNUwmbgGyua"
      },
      "source": [
        "# **Project Summary -**"
      ]
    },
    {
      "cell_type": "markdown",
      "metadata": {
        "id": "F6v_1wHtG2nS"
      },
      "source": [
        "This level 1 tasks of the project focuses on analyzing restaurant data, exploring insights from a dataset consisting of different restaurants name, city, address, locality, rating, price range etc.\n",
        "\n",
        "The Level 1 tasks undertaken during the Cognifyz Data Science Internship, focusing on data exploration and preprocessing, descriptive analysis, and geospatial analysis of restaurant data. It will be interesting to explore what all other insights can be obtained from the same dataset.\n",
        "\n",
        "**Level 1 Tasks:**\n",
        "\n",
        "**Task 1: Data Exploration and Preprocessing**\n",
        "\n",
        "- Explored the restaurant dataset, determining its dimensions.\n",
        "- Managed missing values across columns, ensuring data integrity.\n",
        "- Executed data type conversions as needed.\n",
        "- Analyzed the distribution of the target variable, \"Aggregate rating,\" and addressed class imbalances.\n",
        "\n",
        "**Task 2: Descriptive Analysis**\n",
        "\n",
        "- Calculated fundamental statistical measures (e.g., mean, median, standard deviation) for numerical columns.\n",
        "- Investigated the distribution of categorical variables like \"Country Code,\" \"City,\" and \"Cuisines.\"\n",
        "- Identified the top cuisines and cities with the highest restaurant counts.\n",
        "\n",
        "\n",
        "**Task 3: Geospatial Analysis**\n",
        "\n",
        "- Visualized restaurant locations on maps using latitude and longitude data.\n",
        "- Conducted an analysis of restaurant distribution across different cities and countries.\n",
        "- Explored potential correlations between restaurant locations and ratings.\n",
        "\n",
        "So, this notebook consist of all the Level 1 tasks which i completed during the Cognifyz Data Science Internship. The tasks encompass data exploration, data preprocessing, statistical analysis, and geospatial insights within the restaurant industry, demonstrating a foundational understanding of data science principles."
      ]
    },
    {
      "cell_type": "markdown",
      "metadata": {
        "id": "w6K7xa23Elo4"
      },
      "source": [
        "# **GitHub Link -**"
      ]
    },
    {
      "cell_type": "markdown",
      "metadata": {
        "id": "h1o69JH3Eqqn"
      },
      "source": [
        "**GitHub Link:**\n",
        "https://github.com/Apaulgithub/Restaurant_Data_Analysis_and_Prediction/tree/main/Level%201"
      ]
    },
    {
      "cell_type": "markdown",
      "metadata": {
        "id": "yQaldy8SH6Dl"
      },
      "source": [
        "# **Problem Statement**\n"
      ]
    },
    {
      "cell_type": "markdown",
      "metadata": {
        "id": "DpeJGUA3kjGy"
      },
      "source": [
        "The Level 1 of the Cognifyz Data Science Internship, focuses on the exploration and analysis of a restaurant dataset. The level comprises three key tasks: Data Exploration and Preprocessing, Descriptive Analysis, and Geospatial Analysis.\n",
        "\n",
        "**Project Objectives:**\n",
        "\n",
        "- Gain proficiency in data exploration and preprocessing.\n",
        "- Perform descriptive analysis to understand dataset characteristics.\n",
        "- Apply geospatial analysis techniques to uncover location-based insights.\n",
        "- Develop foundational data science skills for the restaurant industry.\n",
        "\n",
        "**Key Tasks in Level 1:**\n",
        "\n",
        "**Task 1: Data Exploration and Preprocessing**\n",
        "\n",
        "- Explore the dataset to understand its structure, including the number of rows and columns.\n",
        "- Address missing values in each column, ensuring data integrity.\n",
        "- Perform data type conversions as necessary.\n",
        "- Analyze the distribution of the target variable (\"Aggregate rating\") and identify potential class imbalances.\n",
        "\n",
        "**Task 2: Descriptive Analysis**\n",
        "\n",
        "- Calculate essential statistical measures (e.g., mean, median, standard deviation) for numerical columns.\n",
        "- Investigate the distribution of categorical variables, such as \"Country Code,\" \"City,\" and \"Cuisines.\"\n",
        "- Identify the top cuisines and cities with the highest number of restaurants, gaining insights into customer preferences.\n",
        "\n",
        "**Task 3: Geospatial Analysis**\n",
        "\n",
        "- Visualize restaurant locations using latitude and longitude information, providing a spatial perspective.\n",
        "- Analyze the geographical distribution of restaurants across different cities and countries.\n",
        "- Explore potential correlations between the restaurant's location and its rating, uncovering location-based patterns."
      ]
    },
    {
      "cell_type": "markdown",
      "source": [
        "# ***Let's Begin***"
      ],
      "metadata": {
        "id": "PG-Wmn_iKIOo"
      }
    },
    {
      "cell_type": "markdown",
      "source": [
        "## ***Task 1: Data Exploration and Preprocessing***"
      ],
      "metadata": {
        "id": "PqB7TMVXKZFY"
      }
    },
    {
      "cell_type": "markdown",
      "metadata": {
        "id": "Y3lxredqlCYt"
      },
      "source": [
        "### Import Libraries"
      ]
    },
    {
      "cell_type": "code",
      "execution_count": 1,
      "metadata": {
        "id": "M8Vqi-pPk-HR"
      },
      "outputs": [],
      "source": [
        "# Importing Libraries\n",
        "import pandas as pd\n",
        "import numpy as np\n",
        "import matplotlib.pyplot as plt\n",
        "%matplotlib inline\n",
        "import seaborn as sns"
      ]
    },
    {
      "cell_type": "markdown",
      "metadata": {
        "id": "3RnN4peoiCZX"
      },
      "source": [
        "### Dataset Loading"
      ]
    },
    {
      "cell_type": "code",
      "execution_count": 2,
      "metadata": {
        "id": "4CkvbW_SlZ_R"
      },
      "outputs": [],
      "source": [
        "# Load Dataset from github repository\n",
        "df = pd.read_csv(\"https://raw.githubusercontent.com/Apaulgithub/Restaurant_Data_Analysis_and_Prediction/main/Dataset.csv\")"
      ]
    },
    {
      "cell_type": "markdown",
      "metadata": {
        "id": "x71ZqKXriCWQ"
      },
      "source": [
        "### Dataset First View"
      ]
    },
    {
      "cell_type": "code",
      "execution_count": 3,
      "metadata": {
        "id": "LWNFOSvLl09H",
        "colab": {
          "base_uri": "https://localhost:8080/",
          "height": 811
        },
        "outputId": "2edbd803-dea9-4b2c-a037-3d11bcb81088"
      },
      "outputs": [
        {
          "output_type": "execute_result",
          "data": {
            "text/plain": [
              "   Restaurant ID         Restaurant Name  Country Code              City  \\\n",
              "0        6317637        Le Petit Souffle           162       Makati City   \n",
              "1        6304287        Izakaya Kikufuji           162       Makati City   \n",
              "2        6300002  Heat - Edsa Shangri-La           162  Mandaluyong City   \n",
              "3        6318506                    Ooma           162  Mandaluyong City   \n",
              "4        6314302             Sambo Kojin           162  Mandaluyong City   \n",
              "\n",
              "                                             Address  \\\n",
              "0  Third Floor, Century City Mall, Kalayaan Avenu...   \n",
              "1  Little Tokyo, 2277 Chino Roces Avenue, Legaspi...   \n",
              "2  Edsa Shangri-La, 1 Garden Way, Ortigas, Mandal...   \n",
              "3  Third Floor, Mega Fashion Hall, SM Megamall, O...   \n",
              "4  Third Floor, Mega Atrium, SM Megamall, Ortigas...   \n",
              "\n",
              "                                     Locality  \\\n",
              "0   Century City Mall, Poblacion, Makati City   \n",
              "1  Little Tokyo, Legaspi Village, Makati City   \n",
              "2  Edsa Shangri-La, Ortigas, Mandaluyong City   \n",
              "3      SM Megamall, Ortigas, Mandaluyong City   \n",
              "4      SM Megamall, Ortigas, Mandaluyong City   \n",
              "\n",
              "                                    Locality Verbose   Longitude   Latitude  \\\n",
              "0  Century City Mall, Poblacion, Makati City, Mak...  121.027535  14.565443   \n",
              "1  Little Tokyo, Legaspi Village, Makati City, Ma...  121.014101  14.553708   \n",
              "2  Edsa Shangri-La, Ortigas, Mandaluyong City, Ma...  121.056831  14.581404   \n",
              "3  SM Megamall, Ortigas, Mandaluyong City, Mandal...  121.056475  14.585318   \n",
              "4  SM Megamall, Ortigas, Mandaluyong City, Mandal...  121.057508  14.584450   \n",
              "\n",
              "                           Cuisines  ...          Currency Has Table booking  \\\n",
              "0        French, Japanese, Desserts  ...  Botswana Pula(P)               Yes   \n",
              "1                          Japanese  ...  Botswana Pula(P)               Yes   \n",
              "2  Seafood, Asian, Filipino, Indian  ...  Botswana Pula(P)               Yes   \n",
              "3                   Japanese, Sushi  ...  Botswana Pula(P)                No   \n",
              "4                  Japanese, Korean  ...  Botswana Pula(P)               Yes   \n",
              "\n",
              "  Has Online delivery Is delivering now Switch to order menu Price range  \\\n",
              "0                  No                No                   No           3   \n",
              "1                  No                No                   No           3   \n",
              "2                  No                No                   No           4   \n",
              "3                  No                No                   No           4   \n",
              "4                  No                No                   No           4   \n",
              "\n",
              "   Aggregate rating  Rating color Rating text Votes  \n",
              "0               4.8    Dark Green   Excellent   314  \n",
              "1               4.5    Dark Green   Excellent   591  \n",
              "2               4.4         Green   Very Good   270  \n",
              "3               4.9    Dark Green   Excellent   365  \n",
              "4               4.8    Dark Green   Excellent   229  \n",
              "\n",
              "[5 rows x 21 columns]"
            ],
            "text/html": [
              "\n",
              "  <div id=\"df-849318ef-ab9e-4d7e-be02-3584690c919c\" class=\"colab-df-container\">\n",
              "    <div>\n",
              "<style scoped>\n",
              "    .dataframe tbody tr th:only-of-type {\n",
              "        vertical-align: middle;\n",
              "    }\n",
              "\n",
              "    .dataframe tbody tr th {\n",
              "        vertical-align: top;\n",
              "    }\n",
              "\n",
              "    .dataframe thead th {\n",
              "        text-align: right;\n",
              "    }\n",
              "</style>\n",
              "<table border=\"1\" class=\"dataframe\">\n",
              "  <thead>\n",
              "    <tr style=\"text-align: right;\">\n",
              "      <th></th>\n",
              "      <th>Restaurant ID</th>\n",
              "      <th>Restaurant Name</th>\n",
              "      <th>Country Code</th>\n",
              "      <th>City</th>\n",
              "      <th>Address</th>\n",
              "      <th>Locality</th>\n",
              "      <th>Locality Verbose</th>\n",
              "      <th>Longitude</th>\n",
              "      <th>Latitude</th>\n",
              "      <th>Cuisines</th>\n",
              "      <th>...</th>\n",
              "      <th>Currency</th>\n",
              "      <th>Has Table booking</th>\n",
              "      <th>Has Online delivery</th>\n",
              "      <th>Is delivering now</th>\n",
              "      <th>Switch to order menu</th>\n",
              "      <th>Price range</th>\n",
              "      <th>Aggregate rating</th>\n",
              "      <th>Rating color</th>\n",
              "      <th>Rating text</th>\n",
              "      <th>Votes</th>\n",
              "    </tr>\n",
              "  </thead>\n",
              "  <tbody>\n",
              "    <tr>\n",
              "      <th>0</th>\n",
              "      <td>6317637</td>\n",
              "      <td>Le Petit Souffle</td>\n",
              "      <td>162</td>\n",
              "      <td>Makati City</td>\n",
              "      <td>Third Floor, Century City Mall, Kalayaan Avenu...</td>\n",
              "      <td>Century City Mall, Poblacion, Makati City</td>\n",
              "      <td>Century City Mall, Poblacion, Makati City, Mak...</td>\n",
              "      <td>121.027535</td>\n",
              "      <td>14.565443</td>\n",
              "      <td>French, Japanese, Desserts</td>\n",
              "      <td>...</td>\n",
              "      <td>Botswana Pula(P)</td>\n",
              "      <td>Yes</td>\n",
              "      <td>No</td>\n",
              "      <td>No</td>\n",
              "      <td>No</td>\n",
              "      <td>3</td>\n",
              "      <td>4.8</td>\n",
              "      <td>Dark Green</td>\n",
              "      <td>Excellent</td>\n",
              "      <td>314</td>\n",
              "    </tr>\n",
              "    <tr>\n",
              "      <th>1</th>\n",
              "      <td>6304287</td>\n",
              "      <td>Izakaya Kikufuji</td>\n",
              "      <td>162</td>\n",
              "      <td>Makati City</td>\n",
              "      <td>Little Tokyo, 2277 Chino Roces Avenue, Legaspi...</td>\n",
              "      <td>Little Tokyo, Legaspi Village, Makati City</td>\n",
              "      <td>Little Tokyo, Legaspi Village, Makati City, Ma...</td>\n",
              "      <td>121.014101</td>\n",
              "      <td>14.553708</td>\n",
              "      <td>Japanese</td>\n",
              "      <td>...</td>\n",
              "      <td>Botswana Pula(P)</td>\n",
              "      <td>Yes</td>\n",
              "      <td>No</td>\n",
              "      <td>No</td>\n",
              "      <td>No</td>\n",
              "      <td>3</td>\n",
              "      <td>4.5</td>\n",
              "      <td>Dark Green</td>\n",
              "      <td>Excellent</td>\n",
              "      <td>591</td>\n",
              "    </tr>\n",
              "    <tr>\n",
              "      <th>2</th>\n",
              "      <td>6300002</td>\n",
              "      <td>Heat - Edsa Shangri-La</td>\n",
              "      <td>162</td>\n",
              "      <td>Mandaluyong City</td>\n",
              "      <td>Edsa Shangri-La, 1 Garden Way, Ortigas, Mandal...</td>\n",
              "      <td>Edsa Shangri-La, Ortigas, Mandaluyong City</td>\n",
              "      <td>Edsa Shangri-La, Ortigas, Mandaluyong City, Ma...</td>\n",
              "      <td>121.056831</td>\n",
              "      <td>14.581404</td>\n",
              "      <td>Seafood, Asian, Filipino, Indian</td>\n",
              "      <td>...</td>\n",
              "      <td>Botswana Pula(P)</td>\n",
              "      <td>Yes</td>\n",
              "      <td>No</td>\n",
              "      <td>No</td>\n",
              "      <td>No</td>\n",
              "      <td>4</td>\n",
              "      <td>4.4</td>\n",
              "      <td>Green</td>\n",
              "      <td>Very Good</td>\n",
              "      <td>270</td>\n",
              "    </tr>\n",
              "    <tr>\n",
              "      <th>3</th>\n",
              "      <td>6318506</td>\n",
              "      <td>Ooma</td>\n",
              "      <td>162</td>\n",
              "      <td>Mandaluyong City</td>\n",
              "      <td>Third Floor, Mega Fashion Hall, SM Megamall, O...</td>\n",
              "      <td>SM Megamall, Ortigas, Mandaluyong City</td>\n",
              "      <td>SM Megamall, Ortigas, Mandaluyong City, Mandal...</td>\n",
              "      <td>121.056475</td>\n",
              "      <td>14.585318</td>\n",
              "      <td>Japanese, Sushi</td>\n",
              "      <td>...</td>\n",
              "      <td>Botswana Pula(P)</td>\n",
              "      <td>No</td>\n",
              "      <td>No</td>\n",
              "      <td>No</td>\n",
              "      <td>No</td>\n",
              "      <td>4</td>\n",
              "      <td>4.9</td>\n",
              "      <td>Dark Green</td>\n",
              "      <td>Excellent</td>\n",
              "      <td>365</td>\n",
              "    </tr>\n",
              "    <tr>\n",
              "      <th>4</th>\n",
              "      <td>6314302</td>\n",
              "      <td>Sambo Kojin</td>\n",
              "      <td>162</td>\n",
              "      <td>Mandaluyong City</td>\n",
              "      <td>Third Floor, Mega Atrium, SM Megamall, Ortigas...</td>\n",
              "      <td>SM Megamall, Ortigas, Mandaluyong City</td>\n",
              "      <td>SM Megamall, Ortigas, Mandaluyong City, Mandal...</td>\n",
              "      <td>121.057508</td>\n",
              "      <td>14.584450</td>\n",
              "      <td>Japanese, Korean</td>\n",
              "      <td>...</td>\n",
              "      <td>Botswana Pula(P)</td>\n",
              "      <td>Yes</td>\n",
              "      <td>No</td>\n",
              "      <td>No</td>\n",
              "      <td>No</td>\n",
              "      <td>4</td>\n",
              "      <td>4.8</td>\n",
              "      <td>Dark Green</td>\n",
              "      <td>Excellent</td>\n",
              "      <td>229</td>\n",
              "    </tr>\n",
              "  </tbody>\n",
              "</table>\n",
              "<p>5 rows × 21 columns</p>\n",
              "</div>\n",
              "    <div class=\"colab-df-buttons\">\n",
              "\n",
              "  <div class=\"colab-df-container\">\n",
              "    <button class=\"colab-df-convert\" onclick=\"convertToInteractive('df-849318ef-ab9e-4d7e-be02-3584690c919c')\"\n",
              "            title=\"Convert this dataframe to an interactive table.\"\n",
              "            style=\"display:none;\">\n",
              "\n",
              "  <svg xmlns=\"http://www.w3.org/2000/svg\" height=\"24px\" viewBox=\"0 -960 960 960\">\n",
              "    <path d=\"M120-120v-720h720v720H120Zm60-500h600v-160H180v160Zm220 220h160v-160H400v160Zm0 220h160v-160H400v160ZM180-400h160v-160H180v160Zm440 0h160v-160H620v160ZM180-180h160v-160H180v160Zm440 0h160v-160H620v160Z\"/>\n",
              "  </svg>\n",
              "    </button>\n",
              "\n",
              "  <style>\n",
              "    .colab-df-container {\n",
              "      display:flex;\n",
              "      gap: 12px;\n",
              "    }\n",
              "\n",
              "    .colab-df-convert {\n",
              "      background-color: #E8F0FE;\n",
              "      border: none;\n",
              "      border-radius: 50%;\n",
              "      cursor: pointer;\n",
              "      display: none;\n",
              "      fill: #1967D2;\n",
              "      height: 32px;\n",
              "      padding: 0 0 0 0;\n",
              "      width: 32px;\n",
              "    }\n",
              "\n",
              "    .colab-df-convert:hover {\n",
              "      background-color: #E2EBFA;\n",
              "      box-shadow: 0px 1px 2px rgba(60, 64, 67, 0.3), 0px 1px 3px 1px rgba(60, 64, 67, 0.15);\n",
              "      fill: #174EA6;\n",
              "    }\n",
              "\n",
              "    .colab-df-buttons div {\n",
              "      margin-bottom: 4px;\n",
              "    }\n",
              "\n",
              "    [theme=dark] .colab-df-convert {\n",
              "      background-color: #3B4455;\n",
              "      fill: #D2E3FC;\n",
              "    }\n",
              "\n",
              "    [theme=dark] .colab-df-convert:hover {\n",
              "      background-color: #434B5C;\n",
              "      box-shadow: 0px 1px 3px 1px rgba(0, 0, 0, 0.15);\n",
              "      filter: drop-shadow(0px 1px 2px rgba(0, 0, 0, 0.3));\n",
              "      fill: #FFFFFF;\n",
              "    }\n",
              "  </style>\n",
              "\n",
              "    <script>\n",
              "      const buttonEl =\n",
              "        document.querySelector('#df-849318ef-ab9e-4d7e-be02-3584690c919c button.colab-df-convert');\n",
              "      buttonEl.style.display =\n",
              "        google.colab.kernel.accessAllowed ? 'block' : 'none';\n",
              "\n",
              "      async function convertToInteractive(key) {\n",
              "        const element = document.querySelector('#df-849318ef-ab9e-4d7e-be02-3584690c919c');\n",
              "        const dataTable =\n",
              "          await google.colab.kernel.invokeFunction('convertToInteractive',\n",
              "                                                    [key], {});\n",
              "        if (!dataTable) return;\n",
              "\n",
              "        const docLinkHtml = 'Like what you see? Visit the ' +\n",
              "          '<a target=\"_blank\" href=https://colab.research.google.com/notebooks/data_table.ipynb>data table notebook</a>'\n",
              "          + ' to learn more about interactive tables.';\n",
              "        element.innerHTML = '';\n",
              "        dataTable['output_type'] = 'display_data';\n",
              "        await google.colab.output.renderOutput(dataTable, element);\n",
              "        const docLink = document.createElement('div');\n",
              "        docLink.innerHTML = docLinkHtml;\n",
              "        element.appendChild(docLink);\n",
              "      }\n",
              "    </script>\n",
              "  </div>\n",
              "\n",
              "\n",
              "<div id=\"df-d9ade8a5-c0ec-4f22-9ea4-9562a177d2c3\">\n",
              "  <button class=\"colab-df-quickchart\" onclick=\"quickchart('df-d9ade8a5-c0ec-4f22-9ea4-9562a177d2c3')\"\n",
              "            title=\"Suggest charts.\"\n",
              "            style=\"display:none;\">\n",
              "\n",
              "<svg xmlns=\"http://www.w3.org/2000/svg\" height=\"24px\"viewBox=\"0 0 24 24\"\n",
              "     width=\"24px\">\n",
              "    <g>\n",
              "        <path d=\"M19 3H5c-1.1 0-2 .9-2 2v14c0 1.1.9 2 2 2h14c1.1 0 2-.9 2-2V5c0-1.1-.9-2-2-2zM9 17H7v-7h2v7zm4 0h-2V7h2v10zm4 0h-2v-4h2v4z\"/>\n",
              "    </g>\n",
              "</svg>\n",
              "  </button>\n",
              "\n",
              "<style>\n",
              "  .colab-df-quickchart {\n",
              "      --bg-color: #E8F0FE;\n",
              "      --fill-color: #1967D2;\n",
              "      --hover-bg-color: #E2EBFA;\n",
              "      --hover-fill-color: #174EA6;\n",
              "      --disabled-fill-color: #AAA;\n",
              "      --disabled-bg-color: #DDD;\n",
              "  }\n",
              "\n",
              "  [theme=dark] .colab-df-quickchart {\n",
              "      --bg-color: #3B4455;\n",
              "      --fill-color: #D2E3FC;\n",
              "      --hover-bg-color: #434B5C;\n",
              "      --hover-fill-color: #FFFFFF;\n",
              "      --disabled-bg-color: #3B4455;\n",
              "      --disabled-fill-color: #666;\n",
              "  }\n",
              "\n",
              "  .colab-df-quickchart {\n",
              "    background-color: var(--bg-color);\n",
              "    border: none;\n",
              "    border-radius: 50%;\n",
              "    cursor: pointer;\n",
              "    display: none;\n",
              "    fill: var(--fill-color);\n",
              "    height: 32px;\n",
              "    padding: 0;\n",
              "    width: 32px;\n",
              "  }\n",
              "\n",
              "  .colab-df-quickchart:hover {\n",
              "    background-color: var(--hover-bg-color);\n",
              "    box-shadow: 0 1px 2px rgba(60, 64, 67, 0.3), 0 1px 3px 1px rgba(60, 64, 67, 0.15);\n",
              "    fill: var(--button-hover-fill-color);\n",
              "  }\n",
              "\n",
              "  .colab-df-quickchart-complete:disabled,\n",
              "  .colab-df-quickchart-complete:disabled:hover {\n",
              "    background-color: var(--disabled-bg-color);\n",
              "    fill: var(--disabled-fill-color);\n",
              "    box-shadow: none;\n",
              "  }\n",
              "\n",
              "  .colab-df-spinner {\n",
              "    border: 2px solid var(--fill-color);\n",
              "    border-color: transparent;\n",
              "    border-bottom-color: var(--fill-color);\n",
              "    animation:\n",
              "      spin 1s steps(1) infinite;\n",
              "  }\n",
              "\n",
              "  @keyframes spin {\n",
              "    0% {\n",
              "      border-color: transparent;\n",
              "      border-bottom-color: var(--fill-color);\n",
              "      border-left-color: var(--fill-color);\n",
              "    }\n",
              "    20% {\n",
              "      border-color: transparent;\n",
              "      border-left-color: var(--fill-color);\n",
              "      border-top-color: var(--fill-color);\n",
              "    }\n",
              "    30% {\n",
              "      border-color: transparent;\n",
              "      border-left-color: var(--fill-color);\n",
              "      border-top-color: var(--fill-color);\n",
              "      border-right-color: var(--fill-color);\n",
              "    }\n",
              "    40% {\n",
              "      border-color: transparent;\n",
              "      border-right-color: var(--fill-color);\n",
              "      border-top-color: var(--fill-color);\n",
              "    }\n",
              "    60% {\n",
              "      border-color: transparent;\n",
              "      border-right-color: var(--fill-color);\n",
              "    }\n",
              "    80% {\n",
              "      border-color: transparent;\n",
              "      border-right-color: var(--fill-color);\n",
              "      border-bottom-color: var(--fill-color);\n",
              "    }\n",
              "    90% {\n",
              "      border-color: transparent;\n",
              "      border-bottom-color: var(--fill-color);\n",
              "    }\n",
              "  }\n",
              "</style>\n",
              "\n",
              "  <script>\n",
              "    async function quickchart(key) {\n",
              "      const quickchartButtonEl =\n",
              "        document.querySelector('#' + key + ' button');\n",
              "      quickchartButtonEl.disabled = true;  // To prevent multiple clicks.\n",
              "      quickchartButtonEl.classList.add('colab-df-spinner');\n",
              "      try {\n",
              "        const charts = await google.colab.kernel.invokeFunction(\n",
              "            'suggestCharts', [key], {});\n",
              "      } catch (error) {\n",
              "        console.error('Error during call to suggestCharts:', error);\n",
              "      }\n",
              "      quickchartButtonEl.classList.remove('colab-df-spinner');\n",
              "      quickchartButtonEl.classList.add('colab-df-quickchart-complete');\n",
              "    }\n",
              "    (() => {\n",
              "      let quickchartButtonEl =\n",
              "        document.querySelector('#df-d9ade8a5-c0ec-4f22-9ea4-9562a177d2c3 button');\n",
              "      quickchartButtonEl.style.display =\n",
              "        google.colab.kernel.accessAllowed ? 'block' : 'none';\n",
              "    })();\n",
              "  </script>\n",
              "</div>\n",
              "    </div>\n",
              "  </div>\n"
            ]
          },
          "metadata": {},
          "execution_count": 3
        }
      ],
      "source": [
        "# Dataset First Look\n",
        "# View top 5 rows of the dataset\n",
        "df.head()"
      ]
    },
    {
      "cell_type": "markdown",
      "metadata": {
        "id": "7hBIi_osiCS2"
      },
      "source": [
        "### Dataset Rows & Columns count"
      ]
    },
    {
      "cell_type": "code",
      "execution_count": 4,
      "metadata": {
        "id": "Kllu7SJgmLij",
        "colab": {
          "base_uri": "https://localhost:8080/"
        },
        "outputId": "067be2b4-5dc3-4252-9fa2-e83fa6853994"
      },
      "outputs": [
        {
          "output_type": "stream",
          "name": "stdout",
          "text": [
            "Number of rows are:  9551\n",
            "Number of columns are:  21\n"
          ]
        }
      ],
      "source": [
        "# Dataset Rows & Columns count\n",
        "# Checking number of rows and columns of the dataset using shape\n",
        "print(\"Number of rows are: \",df.shape[0])\n",
        "print(\"Number of columns are: \",df.shape[1])"
      ]
    },
    {
      "cell_type": "markdown",
      "metadata": {
        "id": "JlHwYmJAmNHm"
      },
      "source": [
        "### Dataset Information"
      ]
    },
    {
      "cell_type": "code",
      "execution_count": 5,
      "metadata": {
        "id": "e9hRXRi6meOf",
        "colab": {
          "base_uri": "https://localhost:8080/"
        },
        "outputId": "14d6ea0a-f994-40fd-9597-07876cde8b3c"
      },
      "outputs": [
        {
          "output_type": "stream",
          "name": "stdout",
          "text": [
            "<class 'pandas.core.frame.DataFrame'>\n",
            "RangeIndex: 9551 entries, 0 to 9550\n",
            "Data columns (total 21 columns):\n",
            " #   Column                Non-Null Count  Dtype  \n",
            "---  ------                --------------  -----  \n",
            " 0   Restaurant ID         9551 non-null   int64  \n",
            " 1   Restaurant Name       9551 non-null   object \n",
            " 2   Country Code          9551 non-null   int64  \n",
            " 3   City                  9551 non-null   object \n",
            " 4   Address               9551 non-null   object \n",
            " 5   Locality              9551 non-null   object \n",
            " 6   Locality Verbose      9551 non-null   object \n",
            " 7   Longitude             9551 non-null   float64\n",
            " 8   Latitude              9551 non-null   float64\n",
            " 9   Cuisines              9542 non-null   object \n",
            " 10  Average Cost for two  9551 non-null   int64  \n",
            " 11  Currency              9551 non-null   object \n",
            " 12  Has Table booking     9551 non-null   object \n",
            " 13  Has Online delivery   9551 non-null   object \n",
            " 14  Is delivering now     9551 non-null   object \n",
            " 15  Switch to order menu  9551 non-null   object \n",
            " 16  Price range           9551 non-null   int64  \n",
            " 17  Aggregate rating      9551 non-null   float64\n",
            " 18  Rating color          9551 non-null   object \n",
            " 19  Rating text           9551 non-null   object \n",
            " 20  Votes                 9551 non-null   int64  \n",
            "dtypes: float64(3), int64(5), object(13)\n",
            "memory usage: 1.5+ MB\n"
          ]
        }
      ],
      "source": [
        "# Dataset Info\n",
        "# Checking information about the dataset using info\n",
        "df.info()"
      ]
    },
    {
      "cell_type": "markdown",
      "metadata": {
        "id": "35m5QtbWiB9F"
      },
      "source": [
        "#### Duplicate Values"
      ]
    },
    {
      "cell_type": "code",
      "execution_count": 6,
      "metadata": {
        "id": "1sLdpKYkmox0",
        "colab": {
          "base_uri": "https://localhost:8080/"
        },
        "outputId": "8115a1ef-45ff-4f96-880b-845786b117b0"
      },
      "outputs": [
        {
          "output_type": "stream",
          "name": "stdout",
          "text": [
            "number of duplicated rows are 0\n"
          ]
        }
      ],
      "source": [
        "# Dataset Duplicate Value Count\n",
        "dup = df.duplicated().sum()\n",
        "print(f'number of duplicated rows are {dup}')"
      ]
    },
    {
      "cell_type": "markdown",
      "metadata": {
        "id": "PoPl-ycgm1ru"
      },
      "source": [
        "#### Missing Values/Null Values"
      ]
    },
    {
      "cell_type": "code",
      "execution_count": 7,
      "metadata": {
        "id": "GgHWkxvamxVg",
        "colab": {
          "base_uri": "https://localhost:8080/"
        },
        "outputId": "b9c7763f-6172-4897-83e5-f6b739b6e7e0"
      },
      "outputs": [
        {
          "output_type": "execute_result",
          "data": {
            "text/plain": [
              "Restaurant ID           0\n",
              "Restaurant Name         0\n",
              "Country Code            0\n",
              "City                    0\n",
              "Address                 0\n",
              "Locality                0\n",
              "Locality Verbose        0\n",
              "Longitude               0\n",
              "Latitude                0\n",
              "Cuisines                9\n",
              "Average Cost for two    0\n",
              "Currency                0\n",
              "Has Table booking       0\n",
              "Has Online delivery     0\n",
              "Is delivering now       0\n",
              "Switch to order menu    0\n",
              "Price range             0\n",
              "Aggregate rating        0\n",
              "Rating color            0\n",
              "Rating text             0\n",
              "Votes                   0\n",
              "dtype: int64"
            ]
          },
          "metadata": {},
          "execution_count": 7
        }
      ],
      "source": [
        "# Missing Values/Null Values Count\n",
        "df.isnull().sum()"
      ]
    },
    {
      "cell_type": "code",
      "execution_count": 8,
      "metadata": {
        "id": "3q5wnI3om9sJ",
        "colab": {
          "base_uri": "https://localhost:8080/",
          "height": 701
        },
        "outputId": "ddd8908d-053c-468f-f5ba-d8ca4d511f16"
      },
      "outputs": [
        {
          "output_type": "display_data",
          "data": {
            "text/plain": [
              "<Figure size 1000x600 with 2 Axes>"
            ],
            "image/png": "[encoded data removed]"
          },
          "metadata": {}
        }
      ],
      "source": [
        "# Visualizing the missing values\n",
        "# Checking Null Value by Plotting Heatmap\n",
        "\n",
        "# Set the plot size\n",
        "plt.figure(figsize = (10,6))\n",
        "\n",
        "# Create the figure object\n",
        "sns.heatmap(df.isnull().corr(), vmin=-1, annot= True)\n",
        "\n",
        "# Set labels\n",
        "plt.xlabel('Name of columns', fontsize=11)\n",
        "plt.ylabel('Name of columns', fontsize=10)\n",
        "plt.title('Places of missing values in Dataset', fontsize=12)\n",
        "\n",
        "# To show\n",
        "plt.show()"
      ]
    },
    {
      "cell_type": "markdown",
      "metadata": {
        "id": "KwCW2U8-zd2J"
      },
      "source": [
        "#### Handling Missing Values"
      ]
    },
    {
      "cell_type": "code",
      "source": [
        "# If the null values number will high, then we can replace it with any placeholder value. In case if we drop them, we will loss a lot of data\n",
        "# So, since Cuisines column have low number of missing values, that is only 9, i have dropping the same\n",
        "df = df.dropna(subset=['Cuisines'])"
      ],
      "metadata": {
        "id": "jnaSLsKLIn0Z"
      },
      "execution_count": 10,
      "outputs": []
    },
    {
      "cell_type": "code",
      "source": [
        "# Checking missing values again for confirmation\n",
        "print(\"Missing values/null values count after handling:\")\n",
        "df.isna().sum()"
      ],
      "metadata": {
        "colab": {
          "base_uri": "https://localhost:8080/"
        },
        "id": "zO5L5EM92TTG",
        "outputId": "cb2705e8-1bf4-494e-87db-a83601d3eb97"
      },
      "execution_count": 12,
      "outputs": [
        {
          "output_type": "stream",
          "name": "stdout",
          "text": [
            "Missing values/null values count after handling:\n"
          ]
        },
        {
          "output_type": "execute_result",
          "data": {
            "text/plain": [
              "Restaurant ID           0\n",
              "Restaurant Name         0\n",
              "Country Code            0\n",
              "City                    0\n",
              "Address                 0\n",
              "Locality                0\n",
              "Locality Verbose        0\n",
              "Longitude               0\n",
              "Latitude                0\n",
              "Cuisines                0\n",
              "Average Cost for two    0\n",
              "Currency                0\n",
              "Has Table booking       0\n",
              "Has Online delivery     0\n",
              "Is delivering now       0\n",
              "Switch to order menu    0\n",
              "Price range             0\n",
              "Aggregate rating        0\n",
              "Rating color            0\n",
              "Rating text             0\n",
              "Votes                   0\n",
              "dtype: int64"
            ]
          },
          "metadata": {},
          "execution_count": 12
        }
      ]
    },
    {
      "cell_type": "markdown",
      "source": [
        "#### Data Type Conversion"
      ],
      "metadata": {
        "id": "Aflhxi963n7S"
      }
    },
    {
      "cell_type": "markdown",
      "source": [
        "Data type conversion is not needed here, everything is looking good."
      ],
      "metadata": {
        "id": "3_-i9fn13vln"
      }
    },
    {
      "cell_type": "markdown",
      "source": [
        "#### Distribution of The Target Variable"
      ],
      "metadata": {
        "id": "IC0Xd-6o4CUO"
      }
    },
    {
      "cell_type": "code",
      "source": [
        "# Analyze the distribution of the target variable (\"Aggregate rating\") and identify class imbalance\n",
        "target_counts = df['Aggregate rating'].value_counts()\n",
        "print(\"Distribution of target variable:\")\n",
        "print(target_counts)"
      ],
      "metadata": {
        "colab": {
          "base_uri": "https://localhost:8080/"
        },
        "id": "Szg_CWpX3tYZ",
        "outputId": "8bb858bc-a0e1-464a-a8a0-c5b6579a2560"
      },
      "execution_count": 14,
      "outputs": [
        {
          "output_type": "stream",
          "name": "stdout",
          "text": [
            "Distribution of target variable:\n",
            "0.0    2148\n",
            "3.2     522\n",
            "3.1     519\n",
            "3.4     495\n",
            "3.3     483\n",
            "3.5     480\n",
            "3.0     468\n",
            "3.6     458\n",
            "3.7     427\n",
            "3.8     399\n",
            "2.9     381\n",
            "3.9     332\n",
            "2.8     315\n",
            "4.1     274\n",
            "4.0     266\n",
            "2.7     250\n",
            "4.2     221\n",
            "2.6     191\n",
            "4.3     174\n",
            "4.4     143\n",
            "2.5     110\n",
            "4.5      95\n",
            "2.4      87\n",
            "4.6      78\n",
            "4.9      61\n",
            "2.3      47\n",
            "4.7      41\n",
            "2.2      27\n",
            "4.8      25\n",
            "2.1      15\n",
            "2.0       7\n",
            "1.9       2\n",
            "1.8       1\n",
            "Name: Aggregate rating, dtype: int64\n"
          ]
        }
      ]
    },
    {
      "cell_type": "markdown",
      "metadata": {
        "id": "H0kj-8xxnORC"
      },
      "source": [
        "### What did i found from the level 1 (task 1)?"
      ]
    },
    {
      "cell_type": "markdown",
      "metadata": {
        "id": "gfoNAAC-nUe_"
      },
      "source": [
        "* The Restuarant dataset consists of various restuarants information of different cities. Includes information such as restaurant name, city, address, locality, cuisines, rating and price range, among other things.\n",
        "* There are 9551 rows and 21 columns provided in the data.\n",
        "* Null values are only present in cuisines; Since there are only few null values present in cuisines (only 9) i will remove them from the data.\n",
        "* No duplicate values exist.\n",
        "* Data type conversion not required.\n",
        "* Distribution of the target variable (\"Aggregate rating\") well balanced."
      ]
    },
    {
      "cell_type": "markdown",
      "source": [
        "## ***Task 2: Descriptive Analysis***"
      ],
      "metadata": {
        "id": "61zgxoJ434nM"
      }
    },
    {
      "cell_type": "code",
      "source": [],
      "metadata": {
        "id": "kPH9akv574Sz"
      },
      "execution_count": null,
      "outputs": []
    }
  ]
}