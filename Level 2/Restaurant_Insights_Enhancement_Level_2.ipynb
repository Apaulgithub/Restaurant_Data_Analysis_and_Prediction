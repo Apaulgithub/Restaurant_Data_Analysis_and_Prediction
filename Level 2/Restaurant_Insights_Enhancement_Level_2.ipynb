{
  "nbformat": 4,
  "nbformat_minor": 0,
  "metadata": {
    "colab": {
      "provenance": [],
      "collapsed_sections": [
        "vncDsAP0Gaoa",
        "FJNUwmbgGyua",
        "w6K7xa23Elo4",
        "yQaldy8SH6Dl",
        "PqB7TMVXKZFY",
        "Y3lxredqlCYt",
        "3RnN4peoiCZX",
        "x71ZqKXriCWQ",
        "PB2ezHahIMcd",
        "TnamBHQrIpT-",
        "H0kj-8xxnORC",
        "fKuRVsPD5Kle",
        "jWFToxB_5KmJ",
        "ERuvCRyR7xhM",
        "ynv2q4c78oyQ",
        "IX4IV_Fw5KmR"
      ],
      "authorship_tag": "ABX9TyOEpA4DeudXHQhG5mn+ubUR",
      "include_colab_link": true
    },
    "kernelspec": {
      "name": "python3",
      "display_name": "Python 3"
    },
    "language_info": {
      "name": "python"
    }
  },
  "cells": [
    {
      "cell_type": "markdown",
      "metadata": {
        "id": "view-in-github",
        "colab_type": "text"
      },
      "source": [
        "<a href=\"https://colab.research.google.com/github/Apaulgithub/Restaurant_Data_Analysis_and_Prediction/blob/main/Level%202/Restaurant_Insights_Enhancement_Level_2.ipynb\" target=\"_parent\"><img src=\"https://colab.research.google.com/assets/colab-badge.svg\" alt=\"Open In Colab\"/></a>"
      ]
    },
    {
      "cell_type": "markdown",
      "metadata": {
        "id": "vncDsAP0Gaoa"
      },
      "source": [
        "# **Project Name**    - Restaurant_Insights_Enhancement_Level_2\n"
      ]
    },
    {
      "cell_type": "markdown",
      "metadata": {
        "id": "beRrZCGUAJYm"
      },
      "source": [
        "##### **Project Type**    - EDA\n",
        "##### **Industry**    - Cognifyz Technologies\n",
        "##### **Contribution**    - Individual\n",
        "##### **Member Name -** Arindam Paul\n",
        "##### **Level -** 2"
      ]
    },
    {
      "cell_type": "markdown",
      "metadata": {
        "id": "FJNUwmbgGyua"
      },
      "source": [
        "# **Project Summary -**"
      ]
    },
    {
      "cell_type": "markdown",
      "metadata": {
        "id": "F6v_1wHtG2nS"
      },
      "source": [
        "In the second phase of my Data Science internship at Cognifyz Technologies, I embarked on a journey to enhance our understanding of the restaurant dataset through a series of focused tasks. This level 2 revolved around three key objectives:\n",
        "\n",
        "**Task 1: Table Booking and Online Delivery Analysis**\n",
        "\n",
        "- Calculated the percentage of restaurants offering table booking and online delivery services.\n",
        "- Conducted a comparative analysis of average ratings for restaurants with and without table booking.\n",
        "- Explored the availability of online delivery options across various price ranges, revealing valuable insights into customer preferences.\n",
        "\n",
        "**Task 2: Price Range Analysis**\n",
        "\n",
        "- Determined the most common price range among all restaurants.\n",
        "- Computed the average rating for each price range, helping identify high-performing price segments.\n",
        "- Identified the color associated with the highest average rating, simplifying the identification of top-rated price ranges.\n",
        "\n",
        "**Task 3: Feature Engineering**\n",
        "\n",
        "- Employed advanced feature engineering techniques to extract additional insights from existing columns.\n",
        "- Generated new features like \"Has Table Booking\" and \"Has Online Delivery\" by encoding categorical variables, enhancing the dataset's intelligence.\n",
        "\n",
        "This level of the project aimed to elevate our analysis by uncovering essential details related to table booking, delivery services, pricing, and feature engineering. The insights gained will contribute significantly to our data-driven decision-making process and project success."
      ]
    },
    {
      "cell_type": "markdown",
      "metadata": {
        "id": "w6K7xa23Elo4"
      },
      "source": [
        "# **GitHub Link -**"
      ]
    },
    {
      "cell_type": "markdown",
      "metadata": {
        "id": "h1o69JH3Eqqn"
      },
      "source": [
        "**GitHub Link:**\n",
        "https://github.com/Apaulgithub/Restaurant_Data_Analysis_and_Prediction/tree/main/Level%202"
      ]
    },
    {
      "cell_type": "markdown",
      "metadata": {
        "id": "yQaldy8SH6Dl"
      },
      "source": [
        "# **Problem Statement**\n"
      ]
    },
    {
      "cell_type": "markdown",
      "metadata": {
        "id": "DpeJGUA3kjGy"
      },
      "source": [
        "In Level 2 of the Cognifyz Data Science Internship, the objective is to further enrich and refine our understanding of the restaurant dataset through three distinct tasks:\n",
        "\n",
        "**Task 1: Table Booking and Online Delivery**\n",
        "\n",
        "- Calculate the percentage of restaurants offering table booking and online delivery services.\n",
        "- Compare the average ratings of restaurants with and without table booking.\n",
        "- Analyze the availability of online delivery options across various price ranges.\n",
        "\n",
        "**Task 2: Price Range Analysis**\n",
        "\n",
        "- Determine the most common price range among all restaurants.\n",
        "- Calculate the average rating for each price range.\n",
        "- Identify the color associated with the highest average rating, simplifying the identification of top-rated price ranges.\n",
        "\n",
        "**Task 3: Feature Engineering**\n",
        "\n",
        "- Leverage advanced feature engineering techniques to extract additional insights from existing columns.\n",
        "- Create new features, such as \"Has Table Booking\" and \"Has Online Delivery,\" by encoding categorical variables, enhancing the dataset's intelligence.\n",
        "\n",
        "The overarching challenge is to enhance our restaurant insights by diving deep into the dataset and uncovering valuable information related to table booking, delivery services, pricing, and feature engineering. This data enrichment will contribute significantly to data-driven decision-making and project success."
      ]
    },
    {
      "cell_type": "markdown",
      "source": [
        "# ***Let's Begin***"
      ],
      "metadata": {
        "id": "PG-Wmn_iKIOo"
      }
    },
    {
      "cell_type": "markdown",
      "source": [
        "## ***Task 1: Table Booking and Online Delivery***"
      ],
      "metadata": {
        "id": "PqB7TMVXKZFY"
      }
    },
    {
      "cell_type": "markdown",
      "metadata": {
        "id": "Y3lxredqlCYt"
      },
      "source": [
        "### Import Libraries"
      ]
    },
    {
      "cell_type": "code",
      "execution_count": 29,
      "metadata": {
        "id": "M8Vqi-pPk-HR"
      },
      "outputs": [],
      "source": [
        "# Importing Libraries\n",
        "import pandas as pd\n",
        "import numpy as np\n",
        "\n",
        "# Visualization Libraries\n",
        "import matplotlib.pyplot as plt\n",
        "%matplotlib inline\n",
        "import seaborn as sns\n",
        "\n",
        "# Ignore all warnings\n",
        "import warnings\n",
        "warnings.filterwarnings('ignore')"
      ]
    },
    {
      "cell_type": "markdown",
      "metadata": {
        "id": "3RnN4peoiCZX"
      },
      "source": [
        "### Dataset Loading"
      ]
    },
    {
      "cell_type": "code",
      "execution_count": 30,
      "metadata": {
        "id": "4CkvbW_SlZ_R"
      },
      "outputs": [],
      "source": [
        "# Load Dataset from github repository\n",
        "df = pd.read_csv(\"https://raw.githubusercontent.com/Apaulgithub/Restaurant_Data_Analysis_and_Prediction/main/Dataset.csv\")"
      ]
    },
    {
      "cell_type": "markdown",
      "metadata": {
        "id": "x71ZqKXriCWQ"
      },
      "source": [
        "### Percentage of Table Booking and Online Delivery"
      ]
    },
    {
      "cell_type": "code",
      "execution_count": 31,
      "metadata": {
        "id": "LWNFOSvLl09H",
        "colab": {
          "base_uri": "https://localhost:8080/"
        },
        "outputId": "5d2e8028-9ce7-4ae7-895a-14198a129f1c"
      },
      "outputs": [
        {
          "output_type": "stream",
          "name": "stdout",
          "text": [
            "Percentage of restaurants offering Table Booking: 12.12%\n",
            "Percentage of restaurants offering Online Delivery: 25.66%\n"
          ]
        }
      ],
      "source": [
        "# Percentage of restaurants offering table booking and online delivery\n",
        "# Total number of restaurants\n",
        "total_restaurants = len(df)\n",
        "\n",
        "# Percentage calculation\n",
        "table_booking_percentage = (df['Has Table booking'] == 'Yes').sum() / total_restaurants * 100\n",
        "online_delivery_percentage = (df['Has Online delivery'] == 'Yes').sum() / total_restaurants * 100\n",
        "\n",
        "# Display results\n",
        "print(f\"Percentage of restaurants offering Table Booking: {table_booking_percentage:.2f}%\")\n",
        "print(f\"Percentage of restaurants offering Online Delivery: {online_delivery_percentage:.2f}%\")"
      ]
    },
    {
      "cell_type": "markdown",
      "source": [
        "### Restaurants with and without Table Booking"
      ],
      "metadata": {
        "id": "PB2ezHahIMcd"
      }
    },
    {
      "cell_type": "code",
      "source": [
        "# Compare average ratings of restaurants with and without table booking\n",
        "avg_rating_with_table = df[df['Has Table booking'] == 'Yes']['Aggregate rating'].mean()\n",
        "avg_rating_without_table = df[df['Has Table booking'] == 'No']['Aggregate rating'].mean()\n",
        "\n",
        "# Display results\n",
        "print(f\"Average rating with Table Booking: {avg_rating_with_table:.2f}\")\n",
        "print(f\"Average rating without Table Booking: {avg_rating_without_table:.2f}\")"
      ],
      "metadata": {
        "colab": {
          "base_uri": "https://localhost:8080/"
        },
        "id": "xGUhYxGLIWIE",
        "outputId": "4a69e1e5-0264-4f2e-a5b0-8e75a8d7bcaf"
      },
      "execution_count": 32,
      "outputs": [
        {
          "output_type": "stream",
          "name": "stdout",
          "text": [
            "Average rating with Table Booking: 3.44\n",
            "Average rating without Table Booking: 2.56\n"
          ]
        }
      ]
    },
    {
      "cell_type": "markdown",
      "source": [
        "### Availability of Online Delivery"
      ],
      "metadata": {
        "id": "TnamBHQrIpT-"
      }
    },
    {
      "cell_type": "code",
      "source": [
        "# Availability of online delivery among restaurants with different price ranges\n",
        "# Select price ranges\n",
        "price_ranges = df['Average Cost for two'].apply(lambda x: 'Low' if x < 500 else 'Medium' if 500 <= x <= 1000 else 'High')\n",
        "online_delivery_by_price_range = df.groupby(price_ranges)['Has Online delivery'].value_counts(normalize=True).unstack()\n",
        "\n",
        "# Display results\n",
        "print(\"Online Delivery Availability by Price Range:\")\n",
        "print(online_delivery_by_price_range)"
      ],
      "metadata": {
        "colab": {
          "base_uri": "https://localhost:8080/"
        },
        "id": "GGzxARzxKcUG",
        "outputId": "c6ace721-10f5-46fe-afac-52a61579754a"
      },
      "execution_count": 33,
      "outputs": [
        {
          "output_type": "stream",
          "name": "stdout",
          "text": [
            "Online Delivery Availability by Price Range:\n",
            "Has Online delivery         No       Yes\n",
            "Average Cost for two                    \n",
            "High                  0.719149  0.280851\n",
            "Low                   0.858523  0.141477\n",
            "Medium                0.566209  0.433791\n"
          ]
        }
      ]
    },
    {
      "cell_type": "markdown",
      "metadata": {
        "id": "H0kj-8xxnORC"
      },
      "source": [
        "### What did i found from the level 2 (task 1)?"
      ]
    },
    {
      "cell_type": "markdown",
      "metadata": {
        "id": "gfoNAAC-nUe_"
      },
      "source": [
        "* Percentage of restaurants offering Table Booking 12.12% and Online Delivery 25.66%\n",
        "* Average rating with Table Booking 3.44 and without Table Booking: 2.56\n",
        "* Online delivery availability for medium price range food product is better compare to high and low price range food product"
      ]
    },
    {
      "cell_type": "markdown",
      "source": [
        "## ***Task 2: Price Range Analysis***"
      ],
      "metadata": {
        "id": "fKuRVsPD5Kle"
      }
    },
    {
      "cell_type": "markdown",
      "metadata": {
        "id": "jWFToxB_5KmJ"
      },
      "source": [
        "### Most Common Price Range"
      ]
    },
    {
      "cell_type": "code",
      "execution_count": 34,
      "metadata": {
        "colab": {
          "base_uri": "https://localhost:8080/"
        },
        "outputId": "f57d8688-03c2-4c2d-b2a9-ab3293022016",
        "id": "7gcLpEr65KmJ"
      },
      "outputs": [
        {
          "output_type": "stream",
          "name": "stdout",
          "text": [
            "Most Common Price Range: 1\n"
          ]
        }
      ],
      "source": [
        "# Determining the most common price range among all the restaurants\n",
        "most_common_price_range = df['Price range'].mode()[0]\n",
        "\n",
        "# Display result\n",
        "print(f\"Most Common Price Range: {most_common_price_range}\")"
      ]
    },
    {
      "cell_type": "markdown",
      "source": [
        "### Average Rating for Each Price Range"
      ],
      "metadata": {
        "id": "ERuvCRyR7xhM"
      }
    },
    {
      "cell_type": "code",
      "source": [
        "# Calculating average rating for each price range\n",
        "# Group by 'Price range' and calculate the average rating\n",
        "avg_rating_by_price_range = df.groupby('Price range')['Aggregate rating'].mean()\n",
        "\n",
        "# Display result\n",
        "print(\"Average rating for each price range:\")\n",
        "print(round(avg_rating_by_price_range,3))"
      ],
      "metadata": {
        "colab": {
          "base_uri": "https://localhost:8080/"
        },
        "id": "HerH2AI17w6p",
        "outputId": "ce277462-42bb-432b-ccd4-fe0f3172ca6c"
      },
      "execution_count": 58,
      "outputs": [
        {
          "output_type": "stream",
          "name": "stdout",
          "text": [
            "Average rating for each price range:\n",
            "Price range\n",
            "1    2.000\n",
            "2    2.941\n",
            "3    3.683\n",
            "4    3.818\n",
            "Name: Aggregate rating, dtype: float64\n"
          ]
        }
      ]
    },
    {
      "cell_type": "markdown",
      "source": [
        "### Highest Average Rating Among Different Price Ranges"
      ],
      "metadata": {
        "id": "ynv2q4c78oyQ"
      }
    },
    {
      "cell_type": "code",
      "source": [
        "# Identifying the color that represents the highest average rating among different price ranges\n",
        "# Find the price range with the highest average rating\n",
        "highest_avg_rating_color = avg_rating_by_price_range.idxmax()\n",
        "\n",
        "# Create the bar plot\n",
        "plt.bar(avg_rating_by_price_range.index, avg_rating_by_price_range, color='yellow')\n",
        "\n",
        "# Set the color of the bar corresponding to the highest average rating to a distinct color (e.g., red)\n",
        "plt.bar(highest_avg_rating_color, avg_rating_by_price_range[highest_avg_rating_color], color='red')\n",
        "\n",
        "# Set labels\n",
        "plt.xlabel('Price Range')\n",
        "plt.ylabel('Average Rating')\n",
        "plt.title('Average Rating by Price Range')\n",
        "\n",
        "# Highlight the bar for the highest average rating\n",
        "plt.show()"
      ],
      "metadata": {
        "colab": {
          "base_uri": "https://localhost:8080/",
          "height": 472
        },
        "id": "67i94KkiBMWg",
        "outputId": "6eac1ad4-a602-4016-afac-f5df35902424"
      },
      "execution_count": 62,
      "outputs": [
        {
          "output_type": "display_data",
          "data": {
            "text/plain": [
              "<Figure size 640x480 with 1 Axes>"
            ],
            "image/png": "[encoded data removed]"
          },
          "metadata": {}
        }
      ]
    },
    {
      "cell_type": "markdown",
      "metadata": {
        "id": "IX4IV_Fw5KmR"
      },
      "source": [
        "### What did i found from the level 2 (task 2)?"
      ]
    },
    {
      "cell_type": "markdown",
      "metadata": {
        "id": "-xeZcwpY5KmT"
      },
      "source": [
        "* Most common price range among all the restaurants is 1\n",
        "* Price range 4 get the highest average rating, which is 3.818. Followed by price range 3, 2 and 1"
      ]
    }
  ]
}